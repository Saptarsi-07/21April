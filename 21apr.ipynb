{
 "cells": [
  {
   "cell_type": "raw",
   "id": "611d5be3-9f85-47b5-834f-1f3cad00445d",
   "metadata": {},
   "source": [
    "Q1) Eucladian distance = sqrt((x2 - x1)^2 + (y2 - y1)^2)\n",
    "    Manhattan d = |x2 - x1| + |y2 - y1|\n",
    "    Eucledian is more senstive to scaling and manhattan."
   ]
  },
  {
   "cell_type": "raw",
   "id": "97eb8a69-2450-480a-945c-84ef6b32b9ed",
   "metadata": {},
   "source": [
    "Q2) Elbow Method: The elbow method is a graphical technique used to find the optimal k value for KNN clustering. It involves plotting the number of clusters (k) against WCSS."
   ]
  },
  {
   "cell_type": "raw",
   "id": "143c3cae-c21f-4013-850e-ef00943d6fd4",
   "metadata": {},
   "source": [
    "Q3) The choice of distance metric depends on the nature of the data and the problem.It is recommended to experiment with different distance metrics and assess their impact on the model's performance using cross-validation . Domain knowledge  can provide insights into selecting an appropriate distance metric."
   ]
  },
  {
   "cell_type": "raw",
   "id": "146a5983-d9c7-4e51-8924-bb14359475c0",
   "metadata": {},
   "source": [
    "Q4) k and distance metrices are the some hyperparameters.\n",
    "    We can use GridSearchCV to get the best result."
   ]
  },
  {
   "cell_type": "raw",
   "id": "7f4c60f3-3e14-43ae-8b9c-8fad105d8104",
   "metadata": {},
   "source": [
    "Q5)With a small training set, there is a higher risk of overfitting,On the other hand, with a large training set, the model is less likely to overfit, resulting in better generalization. However, if the training set is excessively large, the model may suffer from underfitting\n",
    "  Imblanced traning set can also result is biased model.\n",
    "  \n",
    "  We can perform feature engineering ,selection  and sampling to get better result."
   ]
  },
  {
   "cell_type": "raw",
   "id": "ab9262bd-9324-48ea-a1a8-92b906a3b645",
   "metadata": {},
   "source": [
    "Q6)Computational Complexity,Optimal k Selection:"
   ]
  }
 ],
 "metadata": {
  "kernelspec": {
   "display_name": "Python 3 (ipykernel)",
   "language": "python",
   "name": "python3"
  },
  "language_info": {
   "codemirror_mode": {
    "name": "ipython",
    "version": 3
   },
   "file_extension": ".py",
   "mimetype": "text/x-python",
   "name": "python",
   "nbconvert_exporter": "python",
   "pygments_lexer": "ipython3",
   "version": "3.10.8"
  }
 },
 "nbformat": 4,
 "nbformat_minor": 5
}
